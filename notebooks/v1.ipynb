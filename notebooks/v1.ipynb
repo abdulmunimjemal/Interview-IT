{
 "cells": [
  {
   "cell_type": "markdown",
   "metadata": {},
   "source": [
    "## Experiments\n"
   ]
  },
  {
   "cell_type": "code",
   "execution_count": 47,
   "metadata": {},
   "outputs": [],
   "source": [
    "from dotenv import load_dotenv\n",
    "from langchain.prompts import ChatPromptTemplate, MessagesPlaceholder\n",
    "from langchain.schema.output_parser import StrOutputParser \n",
    "from langchain.memory import ConversationBufferMemory\n",
    "from langchain_openai import ChatOpenAI"
   ]
  },
  {
   "cell_type": "code",
   "execution_count": 48,
   "metadata": {},
   "outputs": [
    {
     "data": {
      "text/plain": [
       "True"
      ]
     },
     "execution_count": 48,
     "metadata": {},
     "output_type": "execute_result"
    }
   ],
   "source": [
    "load_dotenv()"
   ]
  },
  {
   "cell_type": "code",
   "execution_count": 49,
   "metadata": {},
   "outputs": [],
   "source": [
    "# Prompt Engineering\n",
    "\n",
    "system_template = (\n",
    "    \"You are an interviewer for a technical position, conducting a Data Structures and Algorithms (DSA) interview.\"\n",
    "    \"The candidate has been given the following problem to solve: \\n{challenge}\\n\"\n",
    "    \"Your responsibilities include presenting the problem, tracking the time allotted ({total_time} minutes), assessing the candidate's approach, and evaluating their solution.\"\n",
    "    \"The candidate is actively working on the problem and may request hints or clarifications. They will notify you when they are ready to submit their solution.\"\n",
    "    \"Please remind the candidate to manage their time effectively within the allotted time.\"\n",
    "    \"REMINDER: Use Interview Conversational Tone and provide constructive feedback to the candidate.\"\n",
    ")\n",
    "\n",
    "candidate_template = (\n",
    "    \"Current Time: {current_time} minutes\\n\"\n",
    "    \"Current User's Attempted Code: \\n```{current_attempt}```\\n\"\n",
    "    \"If the user is ready to submit their solution, they should type 'submit'. Otherwise, they can request hints or clarifications as long as they have time remaining.\"\n",
    "    \"If the user runs out of time, the interviewer will assess their current solution and provide feedback.\"\n",
    "    \"If the user submits their solution before time runs out, the interviewer will evaluate their solution and provide feedback.\"\n",
    "    \"Consider the following dimensions when evaluating their solution: Problem-Solving Approach Algorithmic Efficiency, Code Quality, Efficiency in Implementation, Communication, Time Management, Adaptability, Overall Performance\"\n",
    ")\n",
    "\n",
    "# Variables of the template:\n",
    "# {challenge} - the problem statement\n",
    "# {total_time} - the total time allotted for the interview\n",
    "# {current_time} - the current time elapsed in the interview\n",
    "# {current_attempt} - the current code attempt by the candidate\n",
    "# {chat_history} - the chat history between the interviewer and the candidate\n",
    "\n",
    "interviewer_template = ChatPromptTemplate.from_messages(\n",
    "    [\n",
    "        (\"system\", system_template),\n",
    "        MessagesPlaceholder(\"chat_history\"),\n",
    "        (\"human\", candidate_template),\n",
    "    ]\n",
    ")"
   ]
  },
  {
   "cell_type": "code",
   "execution_count": 50,
   "metadata": {},
   "outputs": [],
   "source": [
    "llm = ChatOpenAI(model=\"gpt-4o-mini\")\n",
    "memory = ConversationBufferMemory(memory_key=\"chat_history\", return_messages=True)"
   ]
  },
  {
   "cell_type": "code",
   "execution_count": 58,
   "metadata": {},
   "outputs": [],
   "source": [
    "interview_chain = interviewer_template | llm | StrOutputParser()"
   ]
  },
  {
   "cell_type": "code",
   "execution_count": 59,
   "metadata": {},
   "outputs": [
    {
     "name": "stdout",
     "output_type": "stream",
     "text": [
      "Welcome to the DSA Interview Simulator!\n"
     ]
    }
   ],
   "source": [
    "problem = \"\"\"\n",
    "27. Remove Element (Easy)\n",
    "\n",
    "Given an integer array nums and an integer val, remove all occurrences of val in nums in-place. The order of the elements may be changed. Then return the number of elements in nums which are not equal to val.\n",
    "\n",
    "Consider the number of elements in nums which are not equal to val be k, to get accepted, you need to do the following things:\n",
    "\n",
    "Change the array nums such that the first k elements of nums contain the elements which are not equal to val. The remaining elements of nums are not important as well as the size of nums.\n",
    "Return k.\n",
    "\n",
    "You can use any programming language to solve this problem.\n",
    "\"\"\"\n",
    "\n",
    "total_time = 45\n",
    "\n",
    "print(\"Welcome to the DSA Interview Simulator!\")\n"
   ]
  },
  {
   "cell_type": "code",
   "execution_count": 61,
   "metadata": {},
   "outputs": [
    {
     "name": "stdout",
     "output_type": "stream",
     "text": [
      "Hello, You have to solve the following problem in 45 minutes: \n",
      "\n",
      "27. Remove Element (Easy)\n",
      "\n",
      "Given an integer array nums and an integer val, remove all occurrences of val in nums in-place. The order of the elements may be changed. Then return the number of elements in nums which are not equal to val.\n",
      "\n",
      "Consider the number of elements in nums which are not equal to val be k, to get accepted, you need to do the following things:\n",
      "\n",
      "Change the array nums such that the first k elements of nums contain the elements which are not equal to val. The remaining elements of nums are not important as well as the size of nums.\n",
      "Return k.\n",
      "\n",
      "You can use any programming language to solve this problem.\n",
      "\n",
      "\n",
      "\n",
      "AI:  It looks like you've just printed \"Hello World\" as your attempted code. That's a good start if you were looking to check your environment, but we need to focus on solving the problem at hand about removing elements from the array.\n",
      "\n",
      "If you need any hints or clarifications about the problem, feel free to ask! Remember, you have 45 minutes in total, so make sure to manage your time effectively. Would you like some guidance on how to approach the problem?\n",
      "AI:  Your current implementation looks good! You've used a two-pointer approach, which is efficient for this problem. Here's a quick breakdown of what you've done:\n",
      "\n",
      "1. **Two Pointers**: You set up two pointers, `i` starting from the beginning of the array and `j` from the end. This is a common technique for problems involving in-place modification of arrays.\n",
      "\n",
      "2. **Swapping**: When you encounter an element equal to `val`, you swap it with the element at `j`, effectively moving unwanted elements to the end of the array.\n",
      "\n",
      "3. **Incrementing Pointers**: If the element at `i` is not equal to `val`, you simply move the `i` pointer forward.\n",
      "\n",
      "4. **Return Value**: You return `i`, which will represent the new length of the array with elements not equal to `val`.\n",
      "\n",
      "### Feedback:\n",
      "- **Problem-Solving Approach**: You've correctly identified an efficient method to solve the problem using a two-pointer technique.\n",
      "- **Algorithmic Efficiency**: The time complexity of your solution is O(n) because you traverse the list once. The space complexity is O(1), as you're modifying the array in place.\n",
      "- **Code Quality**: Your code is clean, but make sure to include necessary imports, such as `from typing import List`, if you're using type hints.\n",
      "- **Efficiency in Implementation**: You seem to have implemented the logic correctly. Just ensure you handle edge cases, such as when `nums` is empty.\n",
      "- **Communication**: You've been providing clear code, which is great. If you can explain your thought process as you code, it would further demonstrate your understanding.\n",
      "- **Time Management**: You're still within the time limit! Make sure to review your code once more before submitting to catch any potential errors.\n",
      "\n",
      "If you're ready to submit your solution, please type 'submit.' Otherwise, let me know if you have any questions or want to make improvements!\n",
      "AI:  It looks like you've reached the end of the time limit. Let's evaluate your final submission based on the dimensions you provided:\n",
      "\n",
      "### Evaluation of Submission:\n",
      "\n",
      "1. **Problem-Solving Approach**:\n",
      "   - You used a two-pointer technique effectively, which is a solid approach for this type of problem. Your logic for swapping elements is appropriate for the requirement to remove occurrences in-place.\n",
      "\n",
      "2. **Algorithmic Efficiency**:\n",
      "   - Your solution operates with a time complexity of O(n), which is optimal for this problem since you must examine each element of the array at least once. The space complexity is O(1) due to in-place modifications, which is also excellent.\n",
      "\n",
      "3. **Code Quality**:\n",
      "   - The code is relatively clean. However, it would benefit from including necessary imports (e.g., `from typing import List`) to make it functional in a standalone context. Additionally, proper formatting (consistent indentation and spacing) can enhance readability.\n",
      "\n",
      "4. **Efficiency in Implementation**:\n",
      "   - Your implementation is straightforward and follows best practices for this type of problem. Just ensure you handle edge cases, like an empty array or when all elements are the value to be removed.\n",
      "\n",
      "5. **Communication**:\n",
      "   - You provided clear code, which is great. It would have been beneficial to articulate your thought process while coding to demonstrate your understanding fully.\n",
      "\n",
      "6. **Time Management**:\n",
      "   - You effectively managed your time, reaching the submission at the end of the allotted period. It’s important to practice pacing yourself to leave room for reviews if needed.\n",
      "\n",
      "7. **Adaptability**:\n",
      "   - You didn't request any hints or clarifications, which suggests confidence in your approach. However, if you had encountered difficulties, asking for guidance could demonstrate adaptability and a willingness to learn.\n",
      "\n",
      "8. **Overall Performance**:\n",
      "   - Overall, your approach to the problem is commendable, and your code logic is sound. Just focus on refining your communication and code quality in future interviews. \n",
      "\n",
      "### Final Thoughts:\n",
      "You have demonstrated a good understanding of the problem and an efficient way to solve it. With a bit more focus on code quality and communication, you could further improve your performance. Great job! \n",
      "\n",
      "If you have any questions or would like to discuss this further, feel free to ask!\n"
     ]
    },
    {
     "ename": "ValueError",
     "evalue": "invalid literal for int() with base 10: ''",
     "output_type": "error",
     "traceback": [
      "\u001b[1;31m---------------------------------------------------------------------------\u001b[0m",
      "\u001b[1;31mValueError\u001b[0m                                Traceback (most recent call last)",
      "Cell \u001b[1;32mIn[61], line 4\u001b[0m\n\u001b[0;32m      2\u001b[0m \u001b[38;5;28mprint\u001b[39m(\u001b[38;5;124mf\u001b[39m\u001b[38;5;124m\"\u001b[39m\u001b[38;5;124mHello, You have to solve the following problem in \u001b[39m\u001b[38;5;132;01m{\u001b[39;00mtotal_time\u001b[38;5;132;01m}\u001b[39;00m\u001b[38;5;124m minutes: \u001b[39m\u001b[38;5;130;01m\\n\u001b[39;00m\u001b[38;5;132;01m{\u001b[39;00mproblem\u001b[38;5;132;01m}\u001b[39;00m\u001b[38;5;130;01m\\n\u001b[39;00m\u001b[38;5;130;01m\\n\u001b[39;00m\u001b[38;5;124m\"\u001b[39m)\n\u001b[0;32m      3\u001b[0m \u001b[38;5;28;01mwhile\u001b[39;00m \u001b[38;5;28;01mTrue\u001b[39;00m:\n\u001b[1;32m----> 4\u001b[0m     current_time \u001b[38;5;241m=\u001b[39m \u001b[38;5;28;43mint\u001b[39;49m\u001b[43m(\u001b[49m\u001b[38;5;28;43minput\u001b[39;49m\u001b[43m(\u001b[49m\u001b[38;5;124;43mf\u001b[39;49m\u001b[38;5;124;43m\"\u001b[39;49m\u001b[38;5;124;43m[\u001b[39;49m\u001b[38;5;132;43;01m{\u001b[39;49;00m\u001b[38;5;28;43mround\u001b[39;49m\u001b[38;5;132;43;01m}\u001b[39;49;00m\u001b[38;5;124;43m] Current Time (You enter for now): \u001b[39;49m\u001b[38;5;124;43m\"\u001b[39;49m\u001b[43m)\u001b[49m\u001b[43m)\u001b[49m\n\u001b[0;32m      5\u001b[0m     current_attempt \u001b[38;5;241m=\u001b[39m \u001b[38;5;28minput\u001b[39m(\u001b[38;5;124mf\u001b[39m\u001b[38;5;124m\"\u001b[39m\u001b[38;5;124m[\u001b[39m\u001b[38;5;132;01m{\u001b[39;00m\u001b[38;5;28mround\u001b[39m\u001b[38;5;132;01m}\u001b[39;00m\u001b[38;5;124m] Your Attempt: \u001b[39m\u001b[38;5;130;01m\\\u001b[39;00m\n\u001b[0;32m      6\u001b[0m \u001b[38;5;124m                            \u001b[39m\u001b[38;5;130;01m\\n\u001b[39;00m\u001b[38;5;124m\"\u001b[39m)\n\u001b[0;32m      7\u001b[0m     \u001b[38;5;28;01mif\u001b[39;00m current_attempt \u001b[38;5;241m==\u001b[39m \u001b[38;5;124m\"\u001b[39m\u001b[38;5;124msubmit\u001b[39m\u001b[38;5;124m\"\u001b[39m:\n",
      "\u001b[1;31mValueError\u001b[0m: invalid literal for int() with base 10: ''"
     ]
    }
   ],
   "source": [
    "round = 0\n",
    "print(f\"Hello, You have to solve the following problem in {total_time} minutes: \\n{problem}\\n\\n\")\n",
    "while True:\n",
    "    current_time = int(input(f\"[{round}] Current Time (You enter for now): \"))\n",
    "    current_attempt = input(f\"[{round}] Your Attempt: \\\n",
    "                            \\n\")\n",
    "    if current_attempt == \"submit\":\n",
    "        current_attempt = \"The candidate has submitted their solution. Please check the history and evaluate their final submission.\"\n",
    "        variables = {\"challenge\": problem, \"total_time\": total_time, \"current_time\": total_time, \"current_attempt\": current_attempt, \"chat_history\": memory.buffer_as_messages}\n",
    "    else:\n",
    "        variables = {\"challenge\": problem, \"total_time\": total_time, \"current_time\": current_time, \"current_attempt\": current_attempt, \"chat_history\": memory.buffer_as_messages}\n",
    "     \n",
    "    ai = interview_chain.invoke(variables)\n",
    "    print(\"AI: \", ai)\n",
    "    input(\"Press Enter to continue...\")\n",
    "    memory.chat_memory.add_user_message(f\"Time: {current_time}/{total_time} minutes \\n\\n Attempt: \\n ```{current_attempt}```\") \n",
    "    memory.chat_memory.add_ai_message(ai)\n",
    "    \n",
    "\n",
    "\n",
    "    round += 1"
   ]
  },
  {
   "cell_type": "code",
   "execution_count": null,
   "metadata": {},
   "outputs": [],
   "source": []
  }
 ],
 "metadata": {
  "kernelspec": {
   "display_name": "interview-it-vA_G3moj-py3.11",
   "language": "python",
   "name": "python3"
  },
  "language_info": {
   "codemirror_mode": {
    "name": "ipython",
    "version": 3
   },
   "file_extension": ".py",
   "mimetype": "text/x-python",
   "name": "python",
   "nbconvert_exporter": "python",
   "pygments_lexer": "ipython3",
   "version": "3.11.5"
  }
 },
 "nbformat": 4,
 "nbformat_minor": 2
}
