{
 "cells": [
  {
   "cell_type": "markdown",
   "metadata": {},
   "source": [
    "## Experiments\n"
   ]
  },
  {
   "cell_type": "code",
   "execution_count": 12,
   "metadata": {},
   "outputs": [],
   "source": [
    "from dotenv import load_dotenv\n",
    "from langchain.prompts import ChatPromptTemplate, MessagesPlaceholder, HumanMessagePromptTemplate\n",
    "from langchain.schema.output_parser import StrOutputParser \n",
    "from langchain.memory import ConversationBufferMemory\n",
    "from langchain_openai import ChatOpenAI"
   ]
  },
  {
   "cell_type": "code",
   "execution_count": 13,
   "metadata": {},
   "outputs": [
    {
     "data": {
      "text/plain": [
       "True"
      ]
     },
     "execution_count": 13,
     "metadata": {},
     "output_type": "execute_result"
    }
   ],
   "source": [
    "load_dotenv()"
   ]
  },
  {
   "cell_type": "code",
   "execution_count": 27,
   "metadata": {},
   "outputs": [],
   "source": [
    "def load_txt(paths: list[str]) -> str:\n",
    "    \"\"\"Load the contents of a file and return it as a string\"\"\"\n",
    "    for path in paths:\n",
    "        with open(path, encoding=\"utf-8\") as f:\n",
    "            yield f.read()\n",
    "\n",
    "def extract_variables(prompt: str, opening=\"{\", closing=\"}\") -> list[str]:\n",
    "    \"\"\"Extract and return variables encolsed in specific delimeters from the given prompt string.\"\"\"\n",
    "    variables = []\n",
    "    inside_braces = False\n",
    "    current_variable = []\n",
    "    \n",
    "    for char in prompt:\n",
    "        if char == opening:\n",
    "            inside_braces = True\n",
    "            current_variable = []\n",
    "            \n",
    "        elif char == closing:\n",
    "            if current_variable and inside_braces:\n",
    "                variables.append(''.join(current_variable))\n",
    "            inside_braces = False\n",
    "        elif inside_braces:    \n",
    "            current_variable.append(char)\n",
    "            \n",
    "    return variables"
   ]
  },
  {
   "cell_type": "code",
   "execution_count": 32,
   "metadata": {},
   "outputs": [
    {
     "name": "stdout",
     "output_type": "stream",
     "text": [
      "Variables:\n",
      "\t SYSTEM: ['problem', 'time_allotted']\n",
      "\t USER: ['user_input', 'code_snapshot', 'time_elapsed'] \n"
     ]
    }
   ],
   "source": [
    "system_prompt, user_prompt = load_txt([\"system_prompt.txt\", \"user_prompt.txt\"])\n",
    "user_prompt_template = ChatPromptTemplate.from_template(user_prompt)\n",
    "\n",
    "print(f\"Variables:\\n\\t SYSTEM: {extract_variables(system_prompt)}\\n\\t USER: {extract_variables(user_prompt)} \")"
   ]
  },
  {
   "cell_type": "code",
   "execution_count": 33,
   "metadata": {},
   "outputs": [],
   "source": [
    "interviewer_template = ChatPromptTemplate.from_messages(\n",
    "    [\n",
    "        (\"system\", system_prompt),\n",
    "        MessagesPlaceholder(\"chat_history\"),\n",
    "        (\"human\", user_prompt),\n",
    "    ]\n",
    ")\n",
    "\n",
    "llm = ChatOpenAI(model=\"gpt-4o-mini\")\n",
    "memory = ConversationBufferMemory(memory_key=\"chat_history\", return_messages=True)"
   ]
  },
  {
   "cell_type": "code",
   "execution_count": 34,
   "metadata": {},
   "outputs": [],
   "source": [
    "interview_chain = interviewer_template | llm | StrOutputParser()"
   ]
  },
  {
   "cell_type": "code",
   "execution_count": 36,
   "metadata": {},
   "outputs": [
    {
     "name": "stdout",
     "output_type": "stream",
     "text": [
      "Welcome to the DSA Interview Simulator!\n",
      "AI: Thank you for your participation and for fixing the code! I'm glad to hear that you enjoyed the interview process.\n",
      "\n",
      "### Final Thoughts:\n",
      "You demonstrated a strong understanding of the problem and implemented an effective solution. Your willingness to adapt and fix issues during the interview is commendable and shows a good problem-solving mindset.\n",
      "\n",
      "### Key Takeaways:\n",
      "- You understood the requirements clearly and executed a well-structured approach.\n",
      "- Your code is clean and functional.\n",
      "- Keep practicing edge cases and handling various input scenarios to enhance your testing skills.\n",
      "\n",
      "If you have any questions or need clarification on anything discussed, feel free to ask. \n",
      "\n",
      "Thank you again for your time, and I wish you the best in your future endeavors! Goodbye!\n"
     ]
    },
    {
     "data": {
      "application/vnd.jupyter.widget-view+json": {
       "model_id": "52d7d1d7e711424c8abccb979a512106",
       "version_major": 2,
       "version_minor": 0
      },
      "text/plain": [
       "VBox(children=(Textarea(value='', description='Message:', layout=Layout(height='100px', width='100%'), placeho…"
      ]
     },
     "metadata": {},
     "output_type": "display_data"
    }
   ],
   "source": [
    "import time\n",
    "from IPython.display import display, clear_output\n",
    "import ipywidgets as widgets\n",
    "\n",
    "# Provided variables\n",
    "time_allotted = 40\n",
    "user_input = None\n",
    "code_snapshot = None\n",
    "time_elapsed = None\n",
    "i = 0\n",
    "\n",
    "# Provided print statement\n",
    "print(\"Welcome to the DSA Interview Simulator!\")\n",
    "\n",
    "# Function to handle interaction in Jupyter Notebook\n",
    "def handle_interaction(submit_btn):\n",
    "    global user_input, code_snapshot, time_elapsed, i\n",
    "    \n",
    "    # Update the time elapsed\n",
    "    time_elapsed = i * 10\n",
    "\n",
    "    # Capture user input and code snapshot from widgets\n",
    "    user_input = user_input_widget.value\n",
    "    code_snapshot = code_snapshot_widget.value\n",
    "\n",
    "    # Prepare the variables dictionary as provided\n",
    "    variables = {\n",
    "        \"problem\": problem,\n",
    "        \"time_allotted\": time_allotted,\n",
    "        \"user_input\": user_input,\n",
    "        \"code_snapshot\": code_snapshot,\n",
    "        \"time_elapsed\": time_elapsed,\n",
    "        \"chat_history\": memory.buffer_as_messages\n",
    "    }\n",
    "\n",
    "    # Invoke the AI chain with the provided variables\n",
    "    ai = interview_chain.invoke(variables)\n",
    "    \n",
    "    # Display AI response\n",
    "    clear_output(wait=True)\n",
    "    print(\"Welcome to the DSA Interview Simulator!\")\n",
    "    print(\"AI:\", ai)\n",
    "    \n",
    "    # Update widgets for the next input\n",
    "    user_input_widget.value = ''\n",
    "    code_snapshot_widget.value = ''\n",
    "\n",
    "    # Simulate the memory updates and user input handling\n",
    "    memory.chat_memory.add_ai_message(ai)\n",
    "    memory.chat_memory.add_user_message(\n",
    "        user_prompt_template.invoke({\n",
    "            \"user_input\": user_input,\n",
    "            \"code_snapshot\": code_snapshot,\n",
    "            \"time_elapsed\": time_elapsed\n",
    "        }).to_string()\n",
    "    )\n",
    "    \n",
    "    # Increment the iteration counter\n",
    "    i += 1\n",
    "    \n",
    "    # Display the interaction box again for further inputs\n",
    "    display(interaction_box)\n",
    "\n",
    "# Widgets for user input and code snapshot\n",
    "user_input_widget = widgets.Textarea(\n",
    "    value='',\n",
    "    placeholder='Enter your message...',\n",
    "    description='Message:',\n",
    "    layout=widgets.Layout(width='100%', height='100px')\n",
    ")\n",
    "\n",
    "code_snapshot_widget = widgets.Textarea(\n",
    "    value='',\n",
    "    placeholder='Paste your code here...',\n",
    "    description='Code:',\n",
    "    layout=widgets.Layout(width='100%', height='200px')\n",
    ")\n",
    "\n",
    "# Submit button\n",
    "submit_button = widgets.Button(\n",
    "    description='Submit',\n",
    "    button_style='primary',\n",
    "    layout=widgets.Layout(width='100%')\n",
    ")\n",
    "\n",
    "# Attach the button click event to handle_interaction\n",
    "submit_button.on_click(handle_interaction)\n",
    "\n",
    "# Box layout for the interaction UI\n",
    "interaction_box = widgets.VBox([user_input_widget, code_snapshot_widget, submit_button])\n",
    "\n",
    "# Initial UI display\n",
    "clear_output(wait=True)\n",
    "print(\"Welcome to the DSA Interview Simulator!\")\n",
    "\n",
    "display(interaction_box)"
   ]
  },
  {
   "cell_type": "code",
   "execution_count": null,
   "metadata": {},
   "outputs": [],
   "source": []
  }
 ],
 "metadata": {
  "kernelspec": {
   "display_name": "interview-it-vA_G3moj-py3.11",
   "language": "python",
   "name": "python3"
  },
  "language_info": {
   "codemirror_mode": {
    "name": "ipython",
    "version": 3
   },
   "file_extension": ".py",
   "mimetype": "text/x-python",
   "name": "python",
   "nbconvert_exporter": "python",
   "pygments_lexer": "ipython3",
   "version": "3.11.5"
  }
 },
 "nbformat": 4,
 "nbformat_minor": 2
}
